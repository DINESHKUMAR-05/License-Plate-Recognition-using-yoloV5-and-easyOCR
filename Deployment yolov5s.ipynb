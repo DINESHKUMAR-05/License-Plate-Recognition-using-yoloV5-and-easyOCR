{
 "cells": [
  {
   "cell_type": "code",
   "execution_count": 1,
   "id": "a28cc448",
   "metadata": {},
   "outputs": [
    {
     "name": "stderr",
     "output_type": "stream",
     "text": [
      "C:\\Users\\DINESHKUMAR S\\anaconda3\\envs\\DeepLearning\\lib\\site-packages\\tqdm\\auto.py:22: TqdmWarning: IProgress not found. Please update jupyter and ipywidgets. See https://ipywidgets.readthedocs.io/en/stable/user_install.html\n",
      "  from .autonotebook import tqdm as notebook_tqdm\n"
     ]
    }
   ],
   "source": [
    "import torch\n",
    "import cv2\n",
    "import time\n",
    "import pytesseract\n",
    "import re\n",
    "import numpy as np\n",
    "import easyocr"
   ]
  },
  {
   "cell_type": "code",
   "execution_count": 2,
   "id": "87468ea2",
   "metadata": {},
   "outputs": [
    {
     "name": "stderr",
     "output_type": "stream",
     "text": [
      "CUDA not available - defaulting to CPU. Note: This module is much faster with a GPU.\n"
     ]
    }
   ],
   "source": [
    "EASY_OCR = easyocr.Reader(['en'])\n",
    "OCR_TH = 0.1"
   ]
  },
  {
   "cell_type": "code",
   "execution_count": 3,
   "id": "fe6a19ef",
   "metadata": {},
   "outputs": [],
   "source": [
    "def detectx (frame, model):\n",
    "    frame = [frame]\n",
    "    print(f\"[INFO] Detecting. . . \")\n",
    "    results = model(frame)\n",
    "\n",
    "    labels, cordinates = results.xyxyn[0][:, -1], results.xyxyn[0][:, :-1]\n",
    "    return labels, cordinates"
   ]
  },
  {
   "cell_type": "code",
   "execution_count": 4,
   "id": "09f76e90",
   "metadata": {},
   "outputs": [],
   "source": [
    "def plot_boxes(results, frame,classes):\n",
    "    \n",
    "    labels, cord = results\n",
    "    n = len(labels)\n",
    "    x_shape, y_shape = frame.shape[1], frame.shape[0]\n",
    "\n",
    "    print(f\"[INFO] Total {n} detections. . . \")\n",
    "    print(f\"[INFO] Looping through all detections. . . \")\n",
    "\n",
    "\n",
    "    for i in range(n):\n",
    "        row = cord[i]\n",
    "        if row[4] >= 0.30:\n",
    "            print(f\"[INFO] Extracting BBox coordinates. . . \")\n",
    "            x1, y1, x2, y2 = int(row[0]*x_shape), int(row[1]*y_shape), int(row[2]*x_shape), int(row[3]*y_shape)\n",
    "            text_d = classes[int(labels[i])]\n",
    "\n",
    "            coords = [x1,y1,x2,y2]\n",
    "\n",
    "            plate_num = recognize_plate_easyocr(img = frame, coords= coords, reader= EASY_OCR, region_threshold= OCR_TH)\n",
    "\n",
    "            cv2.rectangle(frame, (x1, y1), (x2, y2), (0, 255, 0), 2)\n",
    "            cv2.rectangle(frame, (x1, y1-20), (x2, y1), (0, 255,0), -1)\n",
    "            cv2.putText(frame, f\"{plate_num}\", (x1, y1), cv2.FONT_HERSHEY_SIMPLEX, 0.8,(255,255,255), 2)\n",
    "\n",
    "    return frame"
   ]
  },
  {
   "cell_type": "code",
   "execution_count": 5,
   "id": "85323854",
   "metadata": {},
   "outputs": [],
   "source": [
    "def recognize_plate_easyocr(img, coords,reader,region_threshold):\n",
    "    xmin, ymin, xmax, ymax = coords\n",
    "    nplate = img[int(ymin)-5:int(ymax)+5, int(xmin)-5:int(xmax)+5]\n",
    "\n",
    "\n",
    "    ocr_result = reader.readtext(nplate)\n",
    "\n",
    "    text = filter_text(region=nplate, ocr_result=ocr_result, region_threshold= region_threshold)\n",
    "\n",
    "    if len(text)>=1:\n",
    "        for i in range(len(text)):\n",
    "            text[i] = text[i].upper()\n",
    "    return text"
   ]
  },
  {
   "cell_type": "code",
   "execution_count": 6,
   "id": "a765a167",
   "metadata": {},
   "outputs": [],
   "source": [
    "def filter_text(region, ocr_result, region_threshold):\n",
    "    rectangle_size = region.shape[0]*region.shape[1]\n",
    "    \n",
    "    plate = [] \n",
    "    print(ocr_result)\n",
    "    for result in ocr_result:\n",
    "        length = np.sum(np.subtract(result[0][1], result[0][0]))\n",
    "        height = np.sum(np.subtract(result[0][2], result[0][1]))\n",
    "        \n",
    "        if length*height / rectangle_size >=region_threshold:\n",
    "            plate.append(result[1])\n",
    "        for i in range(len(plate)):\n",
    "            if(len(plate[i])>=8):\n",
    "                if plate[i][2]!=\" \":\n",
    "                    plate[i]=plate[i][:2]+\" \"+plate[i][2:]\n",
    "                if plate[i][5]!=\" \":\n",
    "                    plate[i]=plate[i][:5]+\" \"+plate[i][5:]\n",
    "                if plate[i][8]!=\" \":\n",
    "                    plate[i]=plate[i][:8]+\" \"+plate[i][8:]\n",
    "            plate[i]=plate[i].upper()\n",
    "            print(plate[i]+\"\\n\")\n",
    "    return plate"
   ]
  },
  {
   "cell_type": "code",
   "execution_count": 7,
   "id": "a73fe645",
   "metadata": {},
   "outputs": [],
   "source": [
    "def main(img_path=None, vid_path=None,vid_out = None):\n",
    "\n",
    "    print(f\"[INFO] Loading model... \")\n",
    "    model =  torch.hub.load(\"./yolov5\", 'custom', source ='local', path='last.pt',force_reload=True) \n",
    "\n",
    "    classes = model.names\n",
    "\n",
    "    if img_path != None:\n",
    "        print(f\"[INFO] Working with image: {img_path}\")\n",
    "        img_out_name = f\"./output/result_{img_path.split('/')[-1]}\"\n",
    "\n",
    "        frame = cv2.imread(img_path)\n",
    "        frame = cv2.cvtColor(frame,cv2.COLOR_BGR2RGB)\n",
    "        \n",
    "        results = detectx(frame, model = model)   \n",
    "\n",
    "        frame = cv2.cvtColor(frame,cv2.COLOR_RGB2BGR)\n",
    "\n",
    "        frame = plot_boxes(results, frame,classes = classes)\n",
    "        \n",
    "        cv2.namedWindow(\"img_only\", cv2.WINDOW_NORMAL)\n",
    "\n",
    "        while True:\n",
    "            cv2.imshow(\"img_only\", frame)\n",
    "            if cv2.waitKey(5) & 0xFF == ord('q'):\n",
    "                print(f\"[INFO] Exiting. . . \")\n",
    "                cv2.imwrite(f\"{img_out_name}\",frame)\n",
    "                break\n",
    "    cv2.destroyAllWindows()\n",
    "    \n",
    "\n",
    "    if vid_path != None:\n",
    "        print(f\"[INFO] Working with video: {vid_path}\")\n",
    "\n",
    "        cap = cv2.VideoCapture(vid_path)\n",
    "\n",
    "        if vid_out:\n",
    "\n",
    "            width = int(cap.get(cv2.CAP_PROP_FRAME_WIDTH))\n",
    "            height = int(cap.get(cv2.CAP_PROP_FRAME_HEIGHT))\n",
    "            fps = int(cap.get(cv2.CAP_PROP_FPS))\n",
    "            codec=cv2.VideoWriter_fourcc(*'MP4V')\n",
    "            out = cv2.VideoWriter(vid_out, codec, fps, (width, height))\n",
    "\n",
    "        assert cap.isOpened()\n",
    "        frame_no = 1\n",
    "\n",
    "        cv2.namedWindow(\"vid_out\", cv2.WINDOW_NORMAL)\n",
    "        while True:\n",
    "            ret, frame = cap.read()\n",
    "            if ret  and frame_no %1 == 0:\n",
    "                print(f\"[INFO] Working with frame {frame_no} \")\n",
    "\n",
    "                frame = cv2.cvtColor(frame,cv2.COLOR_BGR2RGB)\n",
    "                results = detectx(frame, model = model)\n",
    "                frame = cv2.cvtColor(frame,cv2.COLOR_RGB2BGR)\n",
    "\n",
    "\n",
    "                frame = plot_boxes(results, frame,classes = classes)\n",
    "                \n",
    "                cv2.imshow(\"vid_out\", frame)\n",
    "                if vid_out:\n",
    "                    print(f\"[INFO] Saving output video. . . \")\n",
    "                    out.write(frame)\n",
    "\n",
    "                if cv2.waitKey(5) & 0xFF == ord('q'):\n",
    "                    break\n",
    "                frame_no += 1\n",
    "        \n",
    "        print(f\"[INFO] Clening up. . . \")\n",
    "        out.release()\n",
    "        \n",
    "    cv2.destroyAllWindows()\n",
    "    "
   ]
  },
  {
   "cell_type": "code",
   "execution_count": null,
   "id": "35c7922e",
   "metadata": {},
   "outputs": [
    {
     "name": "stdout",
     "output_type": "stream",
     "text": [
      "[INFO] Loading model... \n"
     ]
    },
    {
     "name": "stderr",
     "output_type": "stream",
     "text": [
      "YOLOv5  2022-11-13 Python-3.7.15 torch-1.13.0+cpu CPU\n",
      "\n",
      "Fusing layers... \n",
      "Model summary: 157 layers, 7012822 parameters, 0 gradients\n",
      "Adding AutoShape... \n"
     ]
    },
    {
     "name": "stdout",
     "output_type": "stream",
     "text": [
      "[INFO] Working with image: E:\\License Plate Number recognition\\test\\images\\frame-2375.jpg\n",
      "[INFO] Detecting. . . \n",
      "[INFO] Total 0 detections. . . \n",
      "[INFO] Looping through all detections. . . \n"
     ]
    }
   ],
   "source": [
    "#main(vid_path=r\"C:\\Users\\DINESHKUMAR S\\Downloads\\PXL_20220913_080309491_AdobeExpress (1).mp4\",vid_out=\"PXL_20220913_080309491.mp4\") \n",
    "#main(vid_path=0,vid_out=\"webcam_facemask_result.mp4\")\n",
    "main(img_path=r\"E:\\License Plate Number recognition\\test\\images\\frame-2375.jpg\") "
   ]
  },
  {
   "cell_type": "raw",
   "id": "694df29b",
   "metadata": {},
   "source": []
  },
  {
   "cell_type": "code",
   "execution_count": null,
   "id": "31c9103e",
   "metadata": {},
   "outputs": [],
   "source": []
  }
 ],
 "metadata": {
  "kernelspec": {
   "display_name": "Python 3 (ipykernel)",
   "language": "python",
   "name": "python3"
  },
  "language_info": {
   "codemirror_mode": {
    "name": "ipython",
    "version": 3
   },
   "file_extension": ".py",
   "mimetype": "text/x-python",
   "name": "python",
   "nbconvert_exporter": "python",
   "pygments_lexer": "ipython3",
   "version": "3.7.15"
  }
 },
 "nbformat": 4,
 "nbformat_minor": 5
}
